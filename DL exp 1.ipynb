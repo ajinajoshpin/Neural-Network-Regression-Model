{
  "nbformat": 4,
  "nbformat_minor": 0,
  "metadata": {
    "colab": {
      "provenance": []
    },
    "kernelspec": {
      "name": "python3",
      "display_name": "Python 3"
    },
    "language_info": {
      "name": "python"
    }
  },
  "cells": [
    {
      "cell_type": "code",
      "execution_count": null,
      "metadata": {
        "id": "Z0DZk_2F63Lv"
      },
      "outputs": [],
      "source": [
        "import torch\n",
        "import torch.nn as nn\n",
        "import torch.optim as optim\n",
        "import pandas as pd\n",
        "from sklearn.model_selection import train_test_split\n",
        "from sklearn.preprocessing import MinMaxScaler"
      ]
    },
    {
      "cell_type": "code",
      "source": [
        "dataset1 = pd.read_csv('xy_dataset.csv')\n",
        "X = dataset1[['x']].values\n",
        "y = dataset1[['y']].values"
      ],
      "metadata": {
        "id": "rAEHpaZm7Eal"
      },
      "execution_count": null,
      "outputs": []
    },
    {
      "cell_type": "code",
      "source": [
        "X_train, X_test, y_train, y_test = train_test_split(X, y, test_size=0.33, random_state=33)"
      ],
      "metadata": {
        "id": "ETA9af6h9cHs"
      },
      "execution_count": null,
      "outputs": []
    },
    {
      "cell_type": "code",
      "source": [
        "scaler = MinMaxScaler()\n",
        "X_train = scaler.fit_transform(X_train)\n",
        "X_test = scaler.transform(X_test)"
      ],
      "metadata": {
        "id": "0wzMQ86O9hY0"
      },
      "execution_count": null,
      "outputs": []
    },
    {
      "cell_type": "code",
      "source": [
        "X_train_tensor = torch.tensor(X_train, dtype=torch.float32)\n",
        "y_train_tensor = torch.tensor(y_train, dtype=torch.float32).view(-1, 1)\n",
        "X_test_tensor = torch.tensor(X_test, dtype=torch.float32)\n",
        "y_test_tensor = torch.tensor(y_test, dtype=torch.float32).view(-1, 1)"
      ],
      "metadata": {
        "id": "xoqUHik39lmV"
      },
      "execution_count": null,
      "outputs": []
    },
    {
      "cell_type": "code",
      "source": [
        "# Name: ajina joshpin\n",
        "# Register Number:2122232320008\n",
        "class NeuralNet(nn.Module):\n",
        "  def __init__(self):\n",
        "        super().__init__()\n",
        "        self.fc1=nn.Linear(1,8)\n",
        "        self.fc2=nn.Linear(8,10)\n",
        "        self.fc3=nn.Linear(10,1)\n",
        "        self.relu=nn.ReLU()\n",
        "        self.history={'loss':[]}\n",
        "  def forward(self,x):\n",
        "        x=self.relu(self.fc1(x))\n",
        "        x=self.relu(self.fc2(x))\n",
        "        x=self.fc3(x)\n",
        "        return x\n",
        "\n",
        "\n"
      ],
      "metadata": {
        "id": "mrDOa0Ht9qSo"
      },
      "execution_count": null,
      "outputs": []
    },
    {
      "cell_type": "code",
      "source": [
        "ai_brain=NeuralNet()\n",
        "criterion=nn.MSELoss()\n",
        "optimizer=optim.Adam(ai_brain.parameters(),lr=0.001)"
      ],
      "metadata": {
        "id": "4TBkt7NT-JJa"
      },
      "execution_count": null,
      "outputs": []
    },
    {
      "cell_type": "code",
      "source": [
        "def train_model(ai_brain,X_train,y_train,criterion,optimizer,epochs=2000):\n",
        "  for epoch in range(epochs):\n",
        "    optimizer.zero_grad()\n",
        "    loss=criterion(ai_brain(X_train),y_train)\n",
        "    loss.backward()\n",
        "    optimizer.step()\n",
        "\n",
        "    ai_brain.history['loss'].append(loss.item())\n",
        "    if epoch %200==0:\n",
        "      print(f'Epoch [{epoch}/{epochs}],loss:{loss.item():.6f}')"
      ],
      "metadata": {
        "id": "dTmUhE4S-u-s"
      },
      "execution_count": null,
      "outputs": []
    },
    {
      "cell_type": "code",
      "source": [
        "train_model(ai_brain, X_train_tensor, y_train_tensor, criterion,optimizer)"
      ],
      "metadata": {
        "colab": {
          "base_uri": "https://localhost:8080/"
        },
        "id": "Ooo27LU6_rVI",
        "outputId": "a38002c4-4a95-46e6-8148-9b661c2200db"
      },
      "execution_count": null,
      "outputs": [
        {
          "output_type": "stream",
          "name": "stdout",
          "text": [
            "Epoch [0/2000],loss:5990.059570\n",
            "Epoch [200/2000],loss:5818.680664\n",
            "Epoch [400/2000],loss:4639.357422\n",
            "Epoch [600/2000],loss:1851.207520\n",
            "Epoch [800/2000],loss:303.636292\n",
            "Epoch [1000/2000],loss:142.230530\n",
            "Epoch [1200/2000],loss:119.833374\n",
            "Epoch [1400/2000],loss:99.786484\n",
            "Epoch [1600/2000],loss:80.960373\n",
            "Epoch [1800/2000],loss:63.782104\n"
          ]
        }
      ]
    },
    {
      "cell_type": "code",
      "source": [
        "with torch.no_grad():\n",
        "    test_loss = criterion(ai_brain(X_test_tensor), y_test_tensor)\n",
        "    print(f'Test Loss: {test_loss.item():.6f}')"
      ],
      "metadata": {
        "colab": {
          "base_uri": "https://localhost:8080/"
        },
        "id": "w8xZ8pdCEEWp",
        "outputId": "eb0d8862-7bd8-480c-e628-49f22db7c948"
      },
      "execution_count": null,
      "outputs": [
        {
          "output_type": "stream",
          "name": "stdout",
          "text": [
            "Test Loss: 87.715279\n"
          ]
        }
      ]
    },
    {
      "cell_type": "code",
      "source": [
        "loss_df = pd.DataFrame(ai_brain.history)"
      ],
      "metadata": {
        "id": "0KkmgN_5ERRL"
      },
      "execution_count": null,
      "outputs": []
    },
    {
      "cell_type": "code",
      "source": [
        "\n",
        "import matplotlib.pyplot as plt\n",
        "loss_df.plot()\n",
        "plt.xlabel(\"Epochs\")\n",
        "plt.ylabel(\"Loss\")\n",
        "plt.title(\"Loss during Training\")\n",
        "plt.show()"
      ],
      "metadata": {
        "colab": {
          "base_uri": "https://localhost:8080/",
          "height": 472
        },
        "id": "pnLDJAbnEUgB",
        "outputId": "e260e580-abe9-4190-b35c-ffb9164ec376"
      },
      "execution_count": null,
      "outputs": [
        {
          "output_type": "display_data",
          "data": {
            "text/plain": [
              "<Figure size 640x480 with 1 Axes>"
            ],
            "image/png": "[encoded data removed]"
          },
          "metadata": {}
        }
      ]
    },
    {
      "cell_type": "code",
      "source": [
        "\n",
        "X_n1_1 = torch.tensor([[9]], dtype=torch.float32)\n",
        "prediction = ai_brain(torch.tensor(scaler.transform(X_n1_1), dtype=torch.float32)).item()\n",
        "print(f'Prediction: {prediction}')"
      ],
      "metadata": {
        "colab": {
          "base_uri": "https://localhost:8080/"
        },
        "id": "9z9pr5atEYyq",
        "outputId": "0d2fd2c1-4f04-4984-e355-dcb68d52ae0a"
      },
      "execution_count": null,
      "outputs": [
        {
          "output_type": "stream",
          "name": "stdout",
          "text": [
            "Prediction: 526.52734375\n"
          ]
        }
      ]
    }
  ]
}